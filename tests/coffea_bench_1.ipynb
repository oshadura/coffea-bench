{
 "cells": [
  {
   "cell_type": "code",
   "execution_count": 1,
   "id": "34506b40-4d97-4101-8809-be243f11f91e",
   "metadata": {},
   "outputs": [
    {
     "name": "stdout",
     "output_type": "stream",
     "text": [
      "/bin/bash: /opt/conda/lib/libtinfo.so.6: no version information available (required by /bin/bash)\n",
      "Requirement already satisfied: pytest in /opt/conda/lib/python3.8/site-packages (6.2.4)\n",
      "Requirement already satisfied: ipytest in /opt/conda/lib/python3.8/site-packages (0.10.0)\n",
      "Requirement already satisfied: pytest-csv in /opt/conda/lib/python3.8/site-packages (3.0.0)\n",
      "Requirement already satisfied: pytest-benchmark in /opt/conda/lib/python3.8/site-packages (3.4.1)\n",
      "Requirement already satisfied: packaging in /opt/conda/lib/python3.8/site-packages (from pytest) (21.0)\n",
      "Requirement already satisfied: attrs>=19.2.0 in /opt/conda/lib/python3.8/site-packages (from pytest) (21.2.0)\n",
      "Requirement already satisfied: pluggy<1.0.0a1,>=0.12 in /opt/conda/lib/python3.8/site-packages (from pytest) (0.13.1)\n",
      "Requirement already satisfied: iniconfig in /opt/conda/lib/python3.8/site-packages (from pytest) (1.1.1)\n",
      "Requirement already satisfied: toml in /opt/conda/lib/python3.8/site-packages (from pytest) (0.10.2)\n",
      "Requirement already satisfied: py>=1.8.2 in /opt/conda/lib/python3.8/site-packages (from pytest) (1.10.0)\n",
      "Requirement already satisfied: ipython in /opt/conda/lib/python3.8/site-packages (from ipytest) (7.25.0)\n",
      "Requirement already satisfied: six>=1.0.0 in /opt/conda/lib/python3.8/site-packages (from pytest-csv) (1.15.0)\n",
      "Requirement already satisfied: py-cpuinfo in /opt/conda/lib/python3.8/site-packages (from pytest-benchmark) (8.0.0)\n",
      "Requirement already satisfied: pyparsing>=2.0.2 in /opt/conda/lib/python3.8/site-packages (from packaging->pytest) (2.4.7)\n",
      "Requirement already satisfied: setuptools>=18.5 in /opt/conda/lib/python3.8/site-packages (from ipython->ipytest) (57.1.0)\n",
      "Requirement already satisfied: pexpect>4.3; sys_platform != \"win32\" in /opt/conda/lib/python3.8/site-packages (from ipython->ipytest) (4.8.0)\n",
      "Requirement already satisfied: jedi>=0.16 in /opt/conda/lib/python3.8/site-packages (from ipython->ipytest) (0.18.0)\n",
      "Requirement already satisfied: decorator in /opt/conda/lib/python3.8/site-packages (from ipython->ipytest) (5.0.9)\n",
      "Requirement already satisfied: backcall in /opt/conda/lib/python3.8/site-packages (from ipython->ipytest) (0.2.0)\n",
      "Requirement already satisfied: pickleshare in /opt/conda/lib/python3.8/site-packages (from ipython->ipytest) (0.7.5)\n",
      "Requirement already satisfied: matplotlib-inline in /opt/conda/lib/python3.8/site-packages (from ipython->ipytest) (0.1.2)\n",
      "Requirement already satisfied: prompt-toolkit!=3.0.0,!=3.0.1,<3.1.0,>=2.0.0 in /opt/conda/lib/python3.8/site-packages (from ipython->ipytest) (3.0.19)\n",
      "Requirement already satisfied: pygments in /opt/conda/lib/python3.8/site-packages (from ipython->ipytest) (2.9.0)\n",
      "Requirement already satisfied: traitlets>=4.2 in /opt/conda/lib/python3.8/site-packages (from ipython->ipytest) (5.0.5)\n",
      "Requirement already satisfied: ptyprocess>=0.5 in /opt/conda/lib/python3.8/site-packages (from pexpect>4.3; sys_platform != \"win32\"->ipython->ipytest) (0.7.0)\n",
      "Requirement already satisfied: parso<0.9.0,>=0.8.0 in /opt/conda/lib/python3.8/site-packages (from jedi>=0.16->ipython->ipytest) (0.8.2)\n",
      "Requirement already satisfied: wcwidth in /opt/conda/lib/python3.8/site-packages (from prompt-toolkit!=3.0.0,!=3.0.1,<3.1.0,>=2.0.0->ipython->ipytest) (0.2.5)\n",
      "Requirement already satisfied: ipython-genutils in /opt/conda/lib/python3.8/site-packages (from traitlets>=4.2->ipython->ipytest) (0.2.0)\n"
     ]
    }
   ],
   "source": [
    "!pip install pytest ipytest pytest-csv pytest-benchmark"
   ]
  },
  {
   "cell_type": "code",
   "execution_count": 2,
   "id": "fa94256d-2967-4183-b12f-8055582ff556",
   "metadata": {},
   "outputs": [
    {
     "data": {
      "text/plain": [
       "{'rewrite_asserts': True,\n",
       " 'magics': True,\n",
       " 'clean': '[Tt]est*',\n",
       " 'addopts': (),\n",
       " 'run_in_thread': False,\n",
       " 'defopts': True}"
      ]
     },
     "execution_count": 2,
     "metadata": {},
     "output_type": "execute_result"
    }
   ],
   "source": [
    "import numpy as np\n",
    "import pytest\n",
    "%matplotlib inline\n",
    "from coffea import hist\n",
    "import coffea.processor as processor\n",
    "import awkward as ak\n",
    "\n",
    "from dask.distributed import Client, LocalCluster\n",
    "import time\n",
    "import os\n",
    "import ipytest\n",
    "\n",
    "ipytest.config(rewrite_asserts=True, magics=True)"
   ]
  },
  {
   "cell_type": "code",
   "execution_count": 3,
   "id": "51173b09-92b2-4b2d-8c03-510167033c78",
   "metadata": {},
   "outputs": [
    {
     "data": {
      "text/plain": [
       "{'tls://mramsay4-40huskers-2eunl-2eedu.dask-worker.coffea.casa:8788': {'status': 'OK'},\n",
       " 'tls://red-c7125.unl.edu:49603': {'status': 'OK'}}"
      ]
     },
     "execution_count": 3,
     "metadata": {},
     "output_type": "execute_result"
    }
   ],
   "source": [
    "fileset = {'SingleMu' : [\"root://eospublic.cern.ch//eos/root-eos/benchmark/Run2012B_SingleMu.root\"]}\n",
    "\n",
    "from dask.distributed import Client, Worker, WorkerPlugin\n",
    "from typing import List\n",
    "import os\n",
    "\n",
    "class DependencyInstaller(WorkerPlugin):\n",
    "    def __init__(self, dependencies: List[str]):\n",
    "        self._depencendies = \" \".join(f\"'{dep}'\" for dep in dependencies)\n",
    "\n",
    "    def setup(self, worker: Worker):\n",
    "        os.system(f\"pip install {self._depencendies}\")\n",
    "\n",
    "\n",
    "dependency_installer = DependencyInstaller([\n",
    "    \"pytest-benchmark\",\n",
    "])\n",
    "\n",
    "client = Client(\"tls://localhost:8786\")\n",
    "#Uncomment only if we would like to compare the same number of workers\n",
    "#cluster = CoffeaCasaCluster()\n",
    "#cluster.scale(10)\n",
    "#client = Client(cluster)\n",
    "client.register_worker_plugin(dependency_installer)"
   ]
  },
  {
   "cell_type": "code",
   "execution_count": 4,
   "id": "029bd8e9-785d-4644-9c61-6b65310dc91a",
   "metadata": {},
   "outputs": [],
   "source": [
    "# This program plots an event-level variable (in this case, MET, but switching it is as easy as a dict-key change). It also demonstrates an easy use of the book-keeping cutflow tool, to keep track of the number of events processed.\n",
    "\n",
    "# The processor class bundles our data analysis together while giving us some helpful tools.  It also leaves looping and chunks to the framework instead of us.\n",
    "class Processor(processor.ProcessorABC):\n",
    "    def __init__(self):\n",
    "        # Bins and categories for the histogram are defined here. For format, see https://coffeateam.github.io/coffea/stubs/coffea.hist.hist_tools.Hist.html && https://coffeateam.github.io/coffea/stubs/coffea.hist.hist_tools.Bin.html\n",
    "        dataset_axis = hist.Cat(\"dataset\", \"\")\n",
    "        MET_axis = hist.Bin(\"MET\", \"MET [GeV]\", 50, 0, 100)\n",
    "        \n",
    "        # The accumulator keeps our data chunks together for histogramming. It also gives us cutflow, which can be used to keep track of data.\n",
    "        self._accumulator = processor.dict_accumulator({\n",
    "            'MET': hist.Hist(\"Counts\", dataset_axis, MET_axis),\n",
    "            'cutflow': processor.defaultdict_accumulator(int)\n",
    "        })\n",
    "    \n",
    "    @property\n",
    "    def accumulator(self):\n",
    "        return self._accumulator\n",
    "    \n",
    "    def process(self, events):\n",
    "        output = self.accumulator.identity()\n",
    "        \n",
    "        # This is where we do our actual analysis. The dataset has columns similar to the TTree's; events.columns can tell you them, or events.[object].columns for deeper depth.\n",
    "        dataset = events.metadata[\"dataset\"]\n",
    "        MET = events.MET.pt\n",
    "        \n",
    "        # We can define a new key for cutflow (in this case 'all events'). Then we can put values into it. We need += because it's per-chunk (demonstrated below)\n",
    "        output['cutflow']['all events'] += ak.size(MET)\n",
    "        output['cutflow']['number of chunks'] += 1\n",
    "        \n",
    "        # This fills our histogram once our data is collected. The hist key ('MET=') will be defined in the bin in __init__.\n",
    "        output['MET'].fill(dataset=dataset, MET=MET)\n",
    "        return output\n",
    "\n",
    "    def postprocess(self, accumulator):\n",
    "        return accumulator"
   ]
  },
  {
   "cell_type": "code",
   "execution_count": 5,
   "id": "45880bb0-2327-4452-9223-9193ac730542",
   "metadata": {},
   "outputs": [],
   "source": [
    "# Function which we are interested to benchmark where chunk_size is changed dependending on iteration of benchmark run.\n",
    "def coffea_processor_adlexample1(chunk_size):\n",
    "  output = processor.run_uproot_job(fileset,\n",
    "                                  treename = 'Events',\n",
    "                                  processor_instance = Processor(),\n",
    "                                  executor = processor.dask_executor,\n",
    "                                  chunksize = chunk_size,\n",
    "                                  executor_args = {'schema': processor.NanoAODSchema,\n",
    "                                                   'client': client,\n",
    "                                                   'savemetrics': True}\n",
    "                                )\n",
    "  return output"
   ]
  },
  {
   "cell_type": "code",
   "execution_count": 6,
   "id": "7d2afab6-caf4-47a4-8048-5a182da27ddf",
   "metadata": {},
   "outputs": [],
   "source": [
    "@pytest.mark.parametrize(\"chunk_size\", range(100000, 200000, 100000))\n",
    "def test_coffea_processor_adlexample1(benchmark, chunk_size):\n",
    "        output = benchmark(coffea_processor_adlexample1, chunk_size)\n",
    "        # Custom metrics available with `savemetrics` option\n",
    "        benchmark.extra_info['events_s_thread'] = output[1]['entries'] / output[1]['processtime']"
   ]
  },
  {
   "cell_type": "code",
   "execution_count": 7,
   "id": "1f7aff2b-d4d3-4f24-8fa5-46f0f8abae07",
   "metadata": {},
   "outputs": [
    {
     "name": "stdout",
     "output_type": "stream",
     "text": [
      ".                                                                        [100%]\n",
      "\n",
      "---------------------------------------------------------- benchmark: 1 tests ---------------------------------------------------------\n",
      "Name (time in s)                                  Min      Max     Mean  StdDev   Median      IQR  Outliers     OPS  Rounds  Iterations\n",
      "---------------------------------------------------------------------------------------------------------------------------------------\n",
      "test_coffea_processor_adlexample1[100000]     55.1104  69.7225  61.5893  7.0034  57.3705  12.3335       2;0  0.0162       5           1\n",
      "---------------------------------------------------------------------------------------------------------------------------------------\n",
      "\n",
      "Legend:\n",
      "  Outliers: 1 Standard Deviation from Mean; 1.5 IQR (InterQuartile Range) from 1st Quartile and 3rd Quartile.\n",
      "  OPS: Operations Per Second, computed as 1 / Mean\n"
     ]
    }
   ],
   "source": [
    "ipytest.run(\"-qq\")"
   ]
  },
  {
   "cell_type": "code",
   "execution_count": null,
   "id": "8cf8ed6c-b4fd-4a71-bc91-c3aebd6134e7",
   "metadata": {},
   "outputs": [],
   "source": [
    "benchmark1.json\n",
    "{\n",
    "    \"min\": 55.1104,\n",
    "    \"max\": 69.7225,\n",
    "    \"mean\": 61.5893\n",
    "}"
   ]
  }
 ],
 "metadata": {
  "kernelspec": {
   "display_name": "Python 3 (ipykernel)",
   "language": "python",
   "name": "python3"
  },
  "language_info": {
   "codemirror_mode": {
    "name": "ipython",
    "version": 3
   },
   "file_extension": ".py",
   "mimetype": "text/x-python",
   "name": "python",
   "nbconvert_exporter": "python",
   "pygments_lexer": "ipython3",
   "version": "3.8.8"
  }
 },
 "nbformat": 4,
 "nbformat_minor": 5
}
